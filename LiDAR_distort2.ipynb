{
 "cells": [
  {
   "cell_type": "code",
   "execution_count": 3,
   "metadata": {},
   "outputs": [
    {
     "name": "stdout",
     "output_type": "stream",
     "text": [
      "6\n"
     ]
    }
   ],
   "source": [
    "import pickle\n",
    "with open('DIM-119.pkl', 'rb') as f:\n",
    "    database = pickle.load(f)\n",
    "lidar_data = database['lidar_data']\n",
    "path = database['path']\n",
    "print(len(lidar_data))"
   ]
  },
  {
   "cell_type": "code",
   "execution_count": 2,
   "metadata": {},
   "outputs": [
    {
     "name": "stderr",
     "output_type": "stream",
     "text": [
      "[2024-09-24T03:21:23Z INFO  re_sdk_comms::server] Hosting a SDK server over TCP at 0.0.0.0:9876. Connect with the Rerun logging SDK.\n",
      "[2024-09-24T03:21:23Z INFO  winit::platform_impl::platform::x11::window] Guessed window scale factor: 1\n",
      "[2024-09-24T03:21:23Z INFO  re_sdk_comms::server] New SDK client connected from: 127.0.0.1:60758\n",
      "[2024-09-24T03:21:23Z WARN  wgpu_hal::gles::egl] No config found!\n",
      "[2024-09-24T03:21:23Z WARN  wgpu_hal::gles::egl] EGL says it can present to the window but not natively\n",
      "[2024-09-24T03:21:23Z INFO  egui_wgpu] There were 3 available wgpu adapters: {backend: Vulkan, device_type: Cpu, name: \"llvmpipe (LLVM 12.0.0, 256 bits)\", driver: \"llvmpipe\", driver_info: \"Mesa 21.2.6 (LLVM 12.0.0)\", vendor: 0x10005}, {backend: Vulkan, device_type: DiscreteGpu, name: \"NVIDIA GeForce RTX 4060\", driver: \"NVIDIA\", driver_info: \"555.42.02\", vendor: 0x10DE, device: 0x2882}, {backend: Gl, device_type: Other, name: \"NVIDIA GeForce RTX 4060/PCIe/SSE2\", driver: \"OpenGL\", driver_info: \"4.6.0 NVIDIA 555.42.02\", vendor: 0x10DE}\n"
     ]
    }
   ],
   "source": [
    "import rerun as rr\n",
    "import numpy as np\n",
    "\n",
    "rr.init(\"test_distort\", spawn=True)\n",
    "def Axes(l=1.0):\n",
    "    return rr.Arrows3D(\n",
    "        vectors=[[l, 0, 0], [0, l, 0], [0, 0, l]],\n",
    "        colors=[[255,0,0], [0,255,0], [0,0,255]],\n",
    "    )\n",
    "\n",
    "def visualize_sim_lidar(groups, path):\n",
    "    points = []\n",
    "    positions = []\n",
    "    rotations = []\n",
    "    \n",
    "    for i in range(len(groups)):\n",
    "        transform = np.array(groups[i]['transformStart']).reshape(4,4).T\n",
    "        position = transform[:3,3]\n",
    "        rotation = transform[:3,:3]\n",
    "        points.append(groups[i]['xyz'])\n",
    "        positions.append(position)\n",
    "        rotations.append(rotation)\n",
    "    \n",
    "    rr.set_time_seconds('sim_time', 0)\n",
    "    rr.log('/world', rr.Clear(recursive=True))\n",
    "    rr.log('/world', Axes(0.5), static=True)\n",
    "    trajectory = path[:, 1:4]\n",
    "    rr.log('/world/trajectory', rr.LineStrips3D(trajectory))\n",
    "\n",
    "    for i in range(len(groups)):\n",
    "        rr.log(f'/world/measurements/{i}', rr.Transform3D(\n",
    "            translation=positions[i], mat3x3=rotations[i]))\n",
    "        rr.log(f'/world/measurements/{i}', Axes(1.0))\n",
    "        rr.log(f'/world/measurements/{i}/points', rr.Points3D(points[i]))\n",
    "\n",
    "visualize_sim_lidar(lidar_data, path)"
   ]
  },
  {
   "cell_type": "code",
   "execution_count": null,
   "metadata": {},
   "outputs": [],
   "source": []
  }
 ],
 "metadata": {
  "kernelspec": {
   "display_name": "Isaac Sim Python 3",
   "language": "python",
   "name": "isaac_sim_python3"
  },
  "language_info": {
   "codemirror_mode": {
    "name": "ipython",
    "version": 3
   },
   "file_extension": ".py",
   "mimetype": "text/x-python",
   "name": "python",
   "nbconvert_exporter": "python",
   "pygments_lexer": "ipython3",
   "version": "3.10.14"
  }
 },
 "nbformat": 4,
 "nbformat_minor": 2
}
