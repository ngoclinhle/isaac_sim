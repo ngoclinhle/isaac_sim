{
 "cells": [
  {
   "cell_type": "markdown",
   "metadata": {},
   "source": [
    "# install rerun"
   ]
  },
  {
   "cell_type": "code",
   "execution_count": 4,
   "metadata": {},
   "outputs": [
    {
     "name": "stdout",
     "output_type": "stream",
     "text": [
      "Requirement already satisfied: rerun-sdk[notebook] in /home/linh/.local/lib/python3.10/site-packages (0.18.0)\n",
      "Requirement already satisfied: numpy<2,>=1.23 in ./kit/exts/omni.kit.pip_archive/pip_prebundle (from rerun-sdk[notebook]) (1.26.0)\n",
      "Requirement already satisfied: pillow>=8.0.0 in ./kit/exts/omni.kit.pip_archive/pip_prebundle (from rerun-sdk[notebook]) (10.2.0)\n",
      "Requirement already satisfied: pyarrow>=14.0.2 in /home/linh/.local/lib/python3.10/site-packages (from rerun-sdk[notebook]) (17.0.0)\n",
      "Requirement already satisfied: attrs>=23.1.0 in ./kit/exts/omni.kit.pip_archive/pip_prebundle (from rerun-sdk[notebook]) (23.2.0)\n",
      "Requirement already satisfied: typing-extensions>=4.5 in ./kit/exts/omni.kit.pip_archive/pip_prebundle (from rerun-sdk[notebook]) (4.10.0)\n",
      "Requirement already satisfied: rerun-notebook==0.18.0 in /home/linh/.local/lib/python3.10/site-packages (from rerun-sdk[notebook]) (0.18.0)\n",
      "Requirement already satisfied: jupyter-ui-poll in /home/linh/.local/lib/python3.10/site-packages (from rerun-notebook==0.18.0->rerun-sdk[notebook]) (1.0.0)\n",
      "Requirement already satisfied: anywidget in /home/linh/.local/lib/python3.10/site-packages (from rerun-notebook==0.18.0->rerun-sdk[notebook]) (0.9.13)\n",
      "Requirement already satisfied: psygnal>=0.8.1 in /home/linh/.local/lib/python3.10/site-packages (from anywidget->rerun-notebook==0.18.0->rerun-sdk[notebook]) (0.11.1)\n",
      "Requirement already satisfied: ipywidgets>=7.6.0 in ./kit/python/lib/python3.10/site-packages (from anywidget->rerun-notebook==0.18.0->rerun-sdk[notebook]) (8.1.3)\n",
      "Requirement already satisfied: traitlets>=4.3.1 in ./kit/python/lib/python3.10/site-packages (from ipywidgets>=7.6.0->anywidget->rerun-notebook==0.18.0->rerun-sdk[notebook]) (5.14.3)\n",
      "Requirement already satisfied: ipython>=6.1.0 in ./kit/python/lib/python3.10/site-packages (from ipywidgets>=7.6.0->anywidget->rerun-notebook==0.18.0->rerun-sdk[notebook]) (8.26.0)\n",
      "Requirement already satisfied: widgetsnbextension~=4.0.11 in ./kit/python/lib/python3.10/site-packages (from ipywidgets>=7.6.0->anywidget->rerun-notebook==0.18.0->rerun-sdk[notebook]) (4.0.11)\n",
      "Requirement already satisfied: comm>=0.1.3 in ./kit/python/lib/python3.10/site-packages (from ipywidgets>=7.6.0->anywidget->rerun-notebook==0.18.0->rerun-sdk[notebook]) (0.2.2)\n",
      "Requirement already satisfied: jupyterlab-widgets~=3.0.11 in ./kit/python/lib/python3.10/site-packages (from ipywidgets>=7.6.0->anywidget->rerun-notebook==0.18.0->rerun-sdk[notebook]) (3.0.11)\n",
      "Requirement already satisfied: jedi>=0.16 in ./kit/python/lib/python3.10/site-packages (from ipython>=6.1.0->ipywidgets>=7.6.0->anywidget->rerun-notebook==0.18.0->rerun-sdk[notebook]) (0.19.1)\n",
      "Requirement already satisfied: pexpect>4.3 in ./kit/python/lib/python3.10/site-packages (from ipython>=6.1.0->ipywidgets>=7.6.0->anywidget->rerun-notebook==0.18.0->rerun-sdk[notebook]) (4.9.0)\n",
      "Requirement already satisfied: prompt-toolkit<3.1.0,>=3.0.41 in ./kit/python/lib/python3.10/site-packages (from ipython>=6.1.0->ipywidgets>=7.6.0->anywidget->rerun-notebook==0.18.0->rerun-sdk[notebook]) (3.0.47)\n",
      "Requirement already satisfied: exceptiongroup in ./kit/exts/omni.kit.pip_archive/pip_prebundle (from ipython>=6.1.0->ipywidgets>=7.6.0->anywidget->rerun-notebook==0.18.0->rerun-sdk[notebook]) (1.2.1)\n",
      "Requirement already satisfied: pygments>=2.4.0 in ./kit/python/lib/python3.10/site-packages (from ipython>=6.1.0->ipywidgets>=7.6.0->anywidget->rerun-notebook==0.18.0->rerun-sdk[notebook]) (2.18.0)\n",
      "Requirement already satisfied: matplotlib-inline in ./kit/python/lib/python3.10/site-packages (from ipython>=6.1.0->ipywidgets>=7.6.0->anywidget->rerun-notebook==0.18.0->rerun-sdk[notebook]) (0.1.7)\n",
      "Requirement already satisfied: stack-data in ./kit/python/lib/python3.10/site-packages (from ipython>=6.1.0->ipywidgets>=7.6.0->anywidget->rerun-notebook==0.18.0->rerun-sdk[notebook]) (0.6.3)\n",
      "Requirement already satisfied: decorator in ./kit/python/lib/python3.10/site-packages (from ipython>=6.1.0->ipywidgets>=7.6.0->anywidget->rerun-notebook==0.18.0->rerun-sdk[notebook]) (5.1.1)\n",
      "Requirement already satisfied: parso<0.9.0,>=0.8.3 in ./kit/python/lib/python3.10/site-packages (from jedi>=0.16->ipython>=6.1.0->ipywidgets>=7.6.0->anywidget->rerun-notebook==0.18.0->rerun-sdk[notebook]) (0.8.4)\n",
      "Requirement already satisfied: ptyprocess>=0.5 in ./kit/python/lib/python3.10/site-packages (from pexpect>4.3->ipython>=6.1.0->ipywidgets>=7.6.0->anywidget->rerun-notebook==0.18.0->rerun-sdk[notebook]) (0.7.0)\n",
      "Requirement already satisfied: wcwidth in ./kit/python/lib/python3.10/site-packages (from prompt-toolkit<3.1.0,>=3.0.41->ipython>=6.1.0->ipywidgets>=7.6.0->anywidget->rerun-notebook==0.18.0->rerun-sdk[notebook]) (0.2.13)\n",
      "Requirement already satisfied: executing>=1.2.0 in ./kit/python/lib/python3.10/site-packages (from stack-data->ipython>=6.1.0->ipywidgets>=7.6.0->anywidget->rerun-notebook==0.18.0->rerun-sdk[notebook]) (2.0.1)\n",
      "Requirement already satisfied: asttokens>=2.1.0 in ./kit/python/lib/python3.10/site-packages (from stack-data->ipython>=6.1.0->ipywidgets>=7.6.0->anywidget->rerun-notebook==0.18.0->rerun-sdk[notebook]) (2.4.1)\n",
      "Requirement already satisfied: pure-eval in ./kit/python/lib/python3.10/site-packages (from stack-data->ipython>=6.1.0->ipywidgets>=7.6.0->anywidget->rerun-notebook==0.18.0->rerun-sdk[notebook]) (0.2.3)\n",
      "Requirement already satisfied: six>=1.12.0 in ./kit/exts/omni.kit.pip_archive/pip_prebundle (from asttokens>=2.1.0->stack-data->ipython>=6.1.0->ipywidgets>=7.6.0->anywidget->rerun-notebook==0.18.0->rerun-sdk[notebook]) (1.16.0)\n",
      "\u001b[33mWARNING: You are using pip version 21.2.1+nv1; however, version 24.2 is available.\n",
      "You should consider upgrading via the '/home/linh/.local/share/ov/pkg/isaac-sim-4.1.0/kit/python/bin/python3 -m pip install --upgrade pip' command.\u001b[0m\n",
      "Note: you may need to restart the kernel to use updated packages.\n"
     ]
    }
   ],
   "source": [
    "pip install rerun-sdk[notebook]"
   ]
  },
  {
   "cell_type": "markdown",
   "metadata": {},
   "source": [
    "# Import and initialize"
   ]
  },
  {
   "cell_type": "code",
   "execution_count": 6,
   "metadata": {},
   "outputs": [],
   "source": [
    "import numpy as np\n",
    "import rerun as rr \n",
    "\n",
    "rr.init(\"rerun_example_notebook\")"
   ]
  },
  {
   "cell_type": "markdown",
   "metadata": {},
   "source": [
    "# Log the first point\n",
    "entity and archetypes\n",
    "- https://rerun.io/docs/concepts/entity-component\n",
    "- https://rerun.io/docs/reference/types/archetypes"
   ]
  },
  {
   "cell_type": "code",
   "execution_count": 7,
   "metadata": {},
   "outputs": [],
   "source": [
    "rr.log(\n",
    "  entity_path='/object1',\n",
    "  entity = rr.Points3D([[0,0,0]])\n",
    ")"
   ]
  },
  {
   "cell_type": "markdown",
   "metadata": {},
   "source": [
    "# show the viewer\n",
    "- Enable the blueprint to browse entities\n",
    "- Enable the time line to change timestamps\n"
   ]
  },
  {
   "cell_type": "code",
   "execution_count": 8,
   "metadata": {},
   "outputs": [
    {
     "data": {
      "application/vnd.jupyter.widget-view+json": {
       "model_id": "e30b9d95328a4c9f9a39c33866f228bf",
       "version_major": 2,
       "version_minor": 1
      },
      "text/plain": [
       "Viewer()"
      ]
     },
     "metadata": {},
     "output_type": "display_data"
    }
   ],
   "source": [
    "rr.notebook_show()"
   ]
  },
  {
   "cell_type": "code",
   "execution_count": 9,
   "metadata": {},
   "outputs": [],
   "source": [
    "rr.log(\n",
    "  entity_path='/object1',\n",
    "  entity = rr.Arrows3D(vectors=[[1,2,3]])\n",
    ")\n"
   ]
  },
  {
   "cell_type": "code",
   "execution_count": 10,
   "metadata": {},
   "outputs": [],
   "source": [
    "Axes = rr.Arrows3D(\n",
    "  vectors=[[1, 0, 0], [0, 1, 0], [0, 0, 1]],\n",
    "  colors=[[255,0,0], [0,255,0], [0,0,255]],\n",
    ")\n",
    "rr.log('/world', Axes, static=True)"
   ]
  },
  {
   "cell_type": "markdown",
   "metadata": {},
   "source": [
    "# Time line and timestamping\n",
    "https://rerun.io/docs/concepts/timelines"
   ]
  },
  {
   "cell_type": "code",
   "execution_count": 11,
   "metadata": {},
   "outputs": [],
   "source": [
    "rr.set_time_seconds('sim_time', 0)\n",
    "\n",
    "xyz = np.random.rand(100,3)\n",
    "rr.log(\n",
    "  entity_path='/random_points',\n",
    "  entity = rr.Points3D(xyz)\n",
    ")"
   ]
  },
  {
   "cell_type": "code",
   "execution_count": 12,
   "metadata": {},
   "outputs": [],
   "source": [
    "rr.set_time_seconds('sim_time', 1)\n",
    "\n",
    "xyz = np.random.rand(100,3)\n",
    "rr.log(\n",
    "  entity_path='/random_points',\n",
    "  entity = rr.Points3D(xyz)\n",
    ")"
   ]
  },
  {
   "cell_type": "markdown",
   "metadata": {},
   "source": [
    "# Enough for now. There is a lot of other cool features that we will learn when we need to use it"
   ]
  },
  {
   "cell_type": "markdown",
   "metadata": {},
   "source": []
  }
 ],
 "metadata": {
  "kernelspec": {
   "display_name": "Isaac Sim Python 3",
   "language": "python",
   "name": "isaac_sim_python3"
  },
  "language_info": {
   "codemirror_mode": {
    "name": "ipython",
    "version": 3
   },
   "file_extension": ".py",
   "mimetype": "text/x-python",
   "name": "python",
   "nbconvert_exporter": "python",
   "pygments_lexer": "ipython3",
   "version": "3.10.14"
  }
 },
 "nbformat": 4,
 "nbformat_minor": 2
}
